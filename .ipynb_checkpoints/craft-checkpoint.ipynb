{
 "cells": [
  {
   "cell_type": "code",
   "execution_count": 1,
   "metadata": {},
   "outputs": [],
   "source": [
    "import json\n",
    "import os\n",
    "from torch.utils.data import Dataset\n",
    "from pycocotools.coco import COCO"
   ]
  },
  {
   "cell_type": "code",
   "execution_count": 1,
   "metadata": {},
   "outputs": [],
   "source": [
    "import torch"
   ]
  },
  {
   "cell_type": "code",
   "execution_count": 4,
   "metadata": {},
   "outputs": [
    {
     "name": "stdout",
     "output_type": "stream",
     "text": [
      "tensor([[0],\n",
      "        [1],\n",
      "        [2],\n",
      "        [3],\n",
      "        [4]])\n",
      "tensor([[0, 1, 2, 3, 4]])\n",
      "tensor([[4, 3, 2, 1, 0],\n",
      "        [5, 4, 3, 2, 1],\n",
      "        [6, 5, 4, 3, 2],\n",
      "        [7, 6, 5, 4, 3],\n",
      "        [8, 7, 6, 5, 4]])\n"
     ]
    }
   ],
   "source": [
    "position_ids_l = torch.arange(5, dtype=torch.long, ).view(-1, 1)\n",
    "position_ids_r = torch.arange(5, dtype=torch.long, ).view(1, -1)\n",
    "print(position_ids_l)\n",
    "print(position_ids_r)\n",
    "\n",
    "distance = position_ids_l - position_ids_r\n",
    "print(distance + 4)\n"
   ]
  },
  {
   "cell_type": "code",
   "execution_count": 9,
   "metadata": {},
   "outputs": [
    {
     "name": "stdout",
     "output_type": "stream",
     "text": [
      "{'caption': 'a young kid with head phones on using a computer ', 'image': 'val2014/COCO_val2014_000000318219.jpg', 'image_id': 'coco_318219'}\n"
     ]
    }
   ],
   "source": [
    "with open(\"../data/annotations/coco_train.json\", 'r') as file:\n",
    "    ann = json.load(file)\n",
    "    print(ann[9])\n",
    "    # print(ann['annotations'][0])\n",
    "    # print(ann['images'][0])\n",
    "    # print(len(ann['images']))\n",
    "\n"
   ]
  },
  {
   "cell_type": "code",
   "execution_count": 10,
   "metadata": {},
   "outputs": [
    {
     "data": {
      "text/plain": [
       "True"
      ]
     },
     "execution_count": 10,
     "metadata": {},
     "output_type": "execute_result"
    }
   ],
   "source": [
    "from PIL import Image\n",
    "# image = Image.open('../data/val2014/COCO_val2014_000000252074.jpg').convert('RGB') \n"
   ]
  },
  {
   "cell_type": "code",
   "execution_count": 13,
   "metadata": {},
   "outputs": [
    {
     "name": "stdout",
     "output_type": "stream",
     "text": [
      "loading annotations into memory...\n",
      "Done (t=0.27s)\n",
      "creating index...\n",
      "index created!\n",
      "[{'license': 1, 'file_name': 'COCO_train2014_000000318556.jpg', 'coco_url': 'http://images.cocodataset.org/train2014/COCO_train2014_000000318556.jpg', 'height': 640, 'width': 480, 'date_captured': '2013-11-15 05:00:35', 'flickr_url': 'http://farm4.staticflickr.com/3133/3378902101_3c9fa16b84_z.jpg', 'id': 318556}]\n"
     ]
    }
   ],
   "source": [
    "annFile = '../data/annotations/captions_train2014.json'\n",
    "coco = COCO(annFile)\n",
    "img = coco.loadImgs(318556)\n",
    "print(img)"
   ]
  },
  {
   "cell_type": "code",
   "execution_count": 3,
   "metadata": {},
   "outputs": [
    {
     "name": "stdout",
     "output_type": "stream",
     "text": [
      "ViTConfig {\n",
      "  \"attention_probs_dropout_prob\": 0.0,\n",
      "  \"encoder_stride\": 16,\n",
      "  \"hidden_act\": \"gelu\",\n",
      "  \"hidden_dropout_prob\": 0.0,\n",
      "  \"hidden_size\": 768,\n",
      "  \"image_size\": 224,\n",
      "  \"initializer_range\": 0.02,\n",
      "  \"intermediate_size\": 3072,\n",
      "  \"layer_norm_eps\": 1e-12,\n",
      "  \"model_type\": \"vit\",\n",
      "  \"num_attention_heads\": 12,\n",
      "  \"num_channels\": 3,\n",
      "  \"num_hidden_layers\": 12,\n",
      "  \"patch_size\": 16,\n",
      "  \"qkv_bias\": true,\n",
      "  \"transformers_version\": \"4.31.0\"\n",
      "}\n",
      "\n"
     ]
    }
   ],
   "source": [
    "from transformers import BertConfig\n",
    "from transformers import ViTModel, ViTConfig\n",
    "# 创建默认的BertConfig\n",
    "config = ViTConfig()\n",
    "\n",
    "# 打印配置参数\n",
    "print(config)\n"
   ]
  },
  {
   "cell_type": "code",
   "execution_count": 4,
   "metadata": {},
   "outputs": [
    {
     "name": "stderr",
     "output_type": "stream",
     "text": [
      "You are using the legacy behaviour of the <class 'transformers.models.t5.tokenization_t5.T5Tokenizer'>. This means that tokens that come after special tokens will not be properly handled. We recommend you to read the related pull request available at https://github.com/huggingface/transformers/pull/24565\n"
     ]
    },
    {
     "data": {
      "text/plain": [
       "{'input_ids': [3, 23747, 1], 'attention_mask': [1, 1, 1]}"
      ]
     },
     "execution_count": 4,
     "metadata": {},
     "output_type": "execute_result"
    }
   ],
   "source": [
    "from transformers import T5Tokenizer\n",
    "\n",
    "tkn = T5Tokenizer.from_pretrained(\"t5-small\")\n",
    "tkn('134')"
   ]
  },
  {
   "cell_type": "code",
   "execution_count": 1,
   "metadata": {},
   "outputs": [],
   "source": [
    "from transformers import BertTokenizer\n",
    "\n",
    "tokenizer = BertTokenizer.from_pretrained('bert-base-uncased')\n",
    "inputs = tokenizer(\"Hello, my dog is cute\", return_tensors=\"pt\")\n"
   ]
  },
  {
   "cell_type": "code",
   "execution_count": 2,
   "metadata": {},
   "outputs": [
    {
     "name": "stdout",
     "output_type": "stream",
     "text": [
      "[CLS] hello, my dog is cute [SEP]\n"
     ]
    },
    {
     "data": {
      "text/plain": [
       "['hello', ',', 'my', 'dog', 'is', 'cute']"
      ]
     },
     "execution_count": 2,
     "metadata": {},
     "output_type": "execute_result"
    }
   ],
   "source": [
    "encoded = tokenizer(\"Hello, my dog is cute\")\n",
    "print(tokenizer.decode(encoded['input_ids']))\n",
    "tokenizer.tokenize(\"Hello, my dog is cute\")"
   ]
  },
  {
   "cell_type": "code",
   "execution_count": 5,
   "metadata": {},
   "outputs": [
    {
     "data": {
      "text/plain": [
       "['▁Hello', ',', '▁my', '▁dog', '▁is', '▁cute']"
      ]
     },
     "execution_count": 5,
     "metadata": {},
     "output_type": "execute_result"
    }
   ],
   "source": [
    "tkn.tokenize(\"Hello, my dog is cute\")"
   ]
  },
  {
   "cell_type": "code",
   "execution_count": 1,
   "metadata": {},
   "outputs": [
    {
     "name": "stderr",
     "output_type": "stream",
     "text": [
      "/Users/ben-yeung/opt/anaconda3/envs/deep_learning/lib/python3.9/site-packages/tqdm/auto.py:21: TqdmWarning: IProgress not found. Please update jupyter and ipywidgets. See https://ipywidgets.readthedocs.io/en/stable/user_install.html\n",
      "  from .autonotebook import tqdm as notebook_tqdm\n"
     ]
    }
   ],
   "source": [
    "from models.tokenizer import BertTokenizer\n",
    "tkn = BertTokenizer.from_pretrained(\"bert-base-uncased\")"
   ]
  },
  {
   "cell_type": "code",
   "execution_count": 2,
   "metadata": {},
   "outputs": [
    {
     "name": "stdout",
     "output_type": "stream",
     "text": [
      "[CLS] hello, my dog is cute [SEP]\n"
     ]
    }
   ],
   "source": [
    "encoded_input = tkn( \"Hello, my dog is cute\", add_special_tokens=True)\n",
    "print(tkn.decode(encoded_input['input_ids']))"
   ]
  },
  {
   "cell_type": "code",
   "execution_count": 40,
   "metadata": {},
   "outputs": [
    {
     "name": "stdout",
     "output_type": "stream",
     "text": [
      "{'input_ids': [[101, 7592, 1010, 2026, 3899, 2003, 10140], [101, 1045, 2066, 2000, 3191, 2808, 0], [101, 2129, 2024, 2017, 1029, 0, 0]], 'token_type_ids': [[0, 0, 0, 0, 0, 0, 0, 0], [0, 0, 0, 0, 0, 0, 0, 0], [0, 0, 0, 0, 0, 0, 0, 0]], 'attention_mask': [[1, 1, 1, 1, 1, 1, 1], [1, 1, 1, 1, 1, 1, 0], [1, 1, 1, 1, 1, 0, 0]]}\n"
     ]
    }
   ],
   "source": [
    "sentences = [\"Hello, my dog is cute\", \"I like to read books\", \"How are you?\"]\n",
    "tokenized_outputs = tokenizer(sentences, padding='longest', max_length=30)\n",
    "print(tokenized_outputs)"
   ]
  },
  {
   "cell_type": "code",
   "execution_count": 1,
   "metadata": {},
   "outputs": [
    {
     "name": "stderr",
     "output_type": "stream",
     "text": [
      "/home/ubuntu/.local/lib/python3.8/site-packages/transformers/tokenization_utils_base.py:1727: FutureWarning: Calling BertTokenizer.from_pretrained() with the path to a single file or url is deprecated and won't be possible anymore in v5. Use a model identifier or the path to a directory instead.\n",
      "  warnings.warn(\n"
     ]
    }
   ],
   "source": [
    "from models.decoder import BertLMHeadModel\n",
    "from models.tokenizer import BertTokenizer\n",
    "from transformers import BertConfig\n",
    "\n",
    "config_decoder = BertConfig.from_json_file('./configs/config_bert.json')\n",
    "config_decoder.fusion_layer = 0\n",
    "config_decoder.num_hidden_layers = 6\n",
    "pretrained_weights = BertLMHeadModel.from_pretrained(\"bert-base-uncased\", config=config_decoder).state_dict()\n",
    "config_decoder.vocab_size = 14\n",
    "\n",
    "model = BertLMHeadModel(config_decoder)\n",
    "# pretrained_weights = BertLMHeadModel.from_pretrained(text_decoder).state_dict()\n",
    "new_weights = {k: v for k, v in pretrained_weights.items() if \"embeddings\" not in k and model.state_dict()[k].shape == v.shape}\n",
    "model.load_state_dict(new_weights, strict=False)\n",
    "text_decoder = model\n",
    "\n",
    "decode_tokenizer = BertTokenizer.from_pretrained('./data/id_vocab.txt')"
   ]
  },
  {
   "cell_type": "code",
   "execution_count": 8,
   "metadata": {},
   "outputs": [
    {
     "data": {
      "text/plain": [
       "{'input_ids': [12, 12, 1, 3], 'token_type_ids': [0, 0, 0, 0, 0], 'attention_mask': [1, 1, 1, 1]}"
      ]
     },
     "execution_count": 8,
     "metadata": {},
     "output_type": "execute_result"
    }
   ],
   "source": [
    "tokenizer('[CLS] 1 3')"
   ]
  },
  {
   "cell_type": "code",
   "execution_count": 2,
   "metadata": {},
   "outputs": [
    {
     "name": "stderr",
     "output_type": "stream",
     "text": [
      "/home/ubuntu/.local/lib/python3.8/site-packages/torchvision/io/image.py:13: UserWarning: Failed to load image Python extension: libtorch_cuda_cu.so: cannot open shared object file: No such file or directory\n",
      "  warn(f\"Failed to load image Python extension: {e}\")\n"
     ]
    }
   ],
   "source": [
    "from models.text_encoder import BertModel\n",
    "from models.image_encoder import VisionTransformer\n",
    "import torch.nn as nn\n",
    "from functools import partial\n",
    "from torchvision import transforms\n",
    "import os\n",
    "from PIL import Image\n",
    "import torch\n",
    "\n",
    "encode_tokenizer = BertTokenizer.from_pretrained(\"bert-base-uncased\")\n",
    "bert_config = BertConfig.from_json_file('./configs/config_bert.json')\n",
    "text_encoder = BertModel.from_pretrained(\"bert-base-uncased\", config=bert_config, add_pooling_layer=False)\n",
    "\n",
    "   \n",
    "caption = 'A man wearing a net on her head cutting a cake. '\n",
    "text = encode_tokenizer(caption, padding='longest', max_length=30, return_tensors=\"pt\")\n",
    "text_output = text_encoder(text.input_ids, attention_mask = text.attention_mask,                      \n",
    "                                        return_dict = True, mode = 'text') \n",
    "\n",
    "\n",
    "text_embeds = text_output.last_hidden_state\n",
    "# output_pos = text_encoder(encoder_embeds = text_embeds, \n",
    "#                                         attention_mask = text.attention_mask,\n",
    "#                                         encoder_hidden_states = image_embeds,\n",
    "#                                         encoder_attention_mask = image_atts,      \n",
    "#                                         return_dict = True,\n",
    "#                                         mode = 'fusion',\n",
    "#                                        )\n",
    "\n",
    "caption_id = '0 1 8 7 9 [SEP]'\n",
    "text_id = decode_tokenizer(caption_id, padding='longest', max_length=30, return_tensors=\"pt\")\n",
    "text_id_targets = text_id.input_ids.masked_fill(text_id.input_ids == decode_tokenizer.pad_token_id, -100)\n",
    "text_id_output = text_decoder(text_id.input_ids,\n",
    "                                        attention_mask = text_id.attention_mask, \n",
    "                                        encoder_hidden_states = text_embeds,\n",
    "                                        encoder_attention_mask = text.attention_mask,                  \n",
    "                                        labels = text_id_targets,\n",
    "                                        return_dict = True,   \n",
    "                                        reduction = 'none',\n",
    "                                        ) "
   ]
  },
  {
   "cell_type": "code",
   "execution_count": 3,
   "metadata": {},
   "outputs": [
    {
     "data": {
      "text/plain": [
       "tensor([[[ 2.7933e-01, -1.9018e+00,  2.4747e+00,  6.2958e-01,  1.2983e+00,\n",
       "           8.9294e-01,  4.6506e-02,  5.0827e-01,  5.3826e-01, -5.7398e-02,\n",
       "           7.8143e-01, -2.7243e-01,  9.1946e-01, -5.2369e-01],\n",
       "         [ 2.1149e-01, -7.6190e-01,  1.1796e+00,  1.7546e+00, -1.4712e+00,\n",
       "           1.0065e-02, -5.5632e-01, -5.6666e-01,  2.0187e+00, -6.2714e-01,\n",
       "           7.0484e-01,  4.1383e-01,  1.0061e+00, -5.7677e-01],\n",
       "         [-2.0148e-01,  5.1820e-01,  1.8035e+00,  4.7172e-01, -8.7020e-01,\n",
       "          -1.7338e+00, -1.0279e+00, -1.4032e+00,  6.7546e-01, -1.1182e+00,\n",
       "           6.5535e-01,  8.9059e-01,  9.4967e-01,  1.1747e-01],\n",
       "         [-1.2718e+00,  1.1853e+00,  2.0647e-01,  1.9201e+00, -5.4053e-01,\n",
       "          -1.0218e+00, -9.9729e-01,  3.4465e-01,  1.9729e+00, -7.1913e-01,\n",
       "           6.6800e-01,  2.7557e+00,  2.9276e-01, -3.6482e-01],\n",
       "         [-1.5075e+00, -1.3768e+00,  1.2271e+00,  9.8828e-01,  1.4520e+00,\n",
       "           2.6608e-01, -2.5972e-01,  1.0761e+00,  6.8067e-01, -8.7997e-02,\n",
       "           9.2737e-01, -1.0435e+00,  4.8870e-03,  2.0788e-03],\n",
       "         [-9.6800e-01, -3.6559e-01,  8.5803e-01,  3.9540e-01,  4.4962e-01,\n",
       "          -8.4854e-02, -6.3982e-01,  9.7292e-01,  3.4623e-02,  7.9928e-01,\n",
       "           3.8924e-01,  6.4698e-01,  3.8928e-01,  1.7880e-01],\n",
       "         [ 1.9461e-01, -7.4389e-01,  7.7973e-01,  2.0371e+00, -1.2067e-01,\n",
       "          -4.7003e-02, -9.2993e-01, -1.7574e-01,  1.2398e-01, -5.0007e-02,\n",
       "           1.3807e+00, -2.2188e-01,  5.3373e-01, -5.8451e-01]]],\n",
       "       grad_fn=<ViewBackward0>)"
      ]
     },
     "execution_count": 3,
     "metadata": {},
     "output_type": "execute_result"
    }
   ],
   "source": [
    "text_id_output.logits\n"
   ]
  },
  {
   "cell_type": "code",
   "execution_count": 8,
   "metadata": {},
   "outputs": [],
   "source": [
    "from transformers import BertTokenizer\n",
    "tokenizer = BertTokenizer.from_pretrained('bert-base-uncased')\n",
    "outputs = text_decoder.generate(inputs=torch.LongTensor([[12]]), pad_token_id=11, bos_token_id=12,eos_token_id=10, num_return_sequences=5 ,\n",
    "                      max_length=10, num_beams=5, encoder_hidden_states = text_embeds, encoder_attention_mask = text.attention_mask, )"
   ]
  },
  {
   "cell_type": "code",
   "execution_count": 20,
   "metadata": {},
   "outputs": [
    {
     "data": {
      "text/plain": [
       "tensor([[12,  2,  2,  2,  2,  2,  2,  2,  2,  2],\n",
       "        [12,  2,  2,  2,  2,  2,  2,  2,  2,  5],\n",
       "        [12,  2,  2,  2,  2,  2,  2,  2,  3,  3],\n",
       "        [12,  2,  2,  2,  2,  2,  2,  2,  3,  2],\n",
       "        [12,  2,  2,  2,  2,  2,  3,  3,  3,  3]])"
      ]
     },
     "execution_count": 20,
     "metadata": {},
     "output_type": "execute_result"
    }
   ],
   "source": [
    "outputs"
   ]
  },
  {
   "cell_type": "code",
   "execution_count": 14,
   "metadata": {},
   "outputs": [
    {
     "data": {
      "text/plain": [
       "[101, 7592, 1010, 2088, 102]"
      ]
     },
     "execution_count": 14,
     "metadata": {},
     "output_type": "execute_result"
    }
   ],
   "source": [
    "output = tokenizer('hello, world')\n",
    "output.input_ids"
   ]
  },
  {
   "cell_type": "code",
   "execution_count": 9,
   "metadata": {},
   "outputs": [
    {
     "name": "stdout",
     "output_type": "stream",
     "text": [
      "{'input_ids': tensor([[ 101, 1014, 1015, 1018, 1020, 1021, 1020, 1021,  102],\n",
      "        [ 101, 1014, 1023, 1022, 1021,    0,    0,    0,    0]]), 'token_type_ids': tensor([[0, 0, 0, 0, 0, 0, 0, 0, 0, 0],\n",
      "        [0, 0, 0, 0, 0, 0, 0, 0, 0, 0]]), 'attention_mask': tensor([[1, 1, 1, 1, 1, 1, 1, 1, 1],\n",
      "        [1, 1, 1, 1, 1, 0, 0, 0, 0]])}\n"
     ]
    }
   ],
   "source": [
    "from models.tokenizer import BertTokenizer\n",
    "my_tkn = BertTokenizer.from_pretrained(\"bert-base-uncased\")\n",
    "input_id = my_tkn(['0 1 4 6 7 6 7 [SEP]','0 9 8 7'], padding='longest',return_tensors='pt')\n",
    "print(input_id)"
   ]
  },
  {
   "cell_type": "code",
   "execution_count": 23,
   "metadata": {},
   "outputs": [],
   "source": [
    "from models.tokenizer import BertTokenizer\n",
    "tokenizer = BertTokenizer.from_pretrained(\"bert-base-uncased\")"
   ]
  },
  {
   "cell_type": "code",
   "execution_count": null,
   "metadata": {},
   "outputs": [],
   "source": []
  }
 ],
 "metadata": {
  "kernelspec": {
   "display_name": "Python 3",
   "language": "python",
   "name": "python3"
  },
  "language_info": {
   "codemirror_mode": {
    "name": "ipython",
    "version": 3
   },
   "file_extension": ".py",
   "mimetype": "text/x-python",
   "name": "python",
   "nbconvert_exporter": "python",
   "pygments_lexer": "ipython3",
   "version": "3.8.10"
  }
 },
 "nbformat": 4,
 "nbformat_minor": 4
}
