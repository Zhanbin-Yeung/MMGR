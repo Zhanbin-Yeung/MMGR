{
 "cells": [
  {
   "cell_type": "code",
   "execution_count": null,
   "id": "47cc80ea-435c-4b19-8ee4-6b707b6f1062",
   "metadata": {},
   "outputs": [],
   "source": [
    "import json\n",
    "import glob"
   ]
  },
  {
   "cell_type": "code",
   "execution_count": null,
   "id": "1cdb4807-a6d8-4560-b2f0-f1a3d1986a0a",
   "metadata": {},
   "outputs": [],
   "source": [
    "content_pattern = 'cotent_*.json'\n",
    "metadata_pattern = 'metadata_*.json'\n",
    "    \n",
    "content_file = glob.glob(content_pattern)\n",
    "metadata_file = glob.glob(metadata_pattern)"
   ]
  },
  {
   "cell_type": "code",
   "execution_count": null,
   "id": "2651c3ee-5beb-46da-8184-50d0e5677da6",
   "metadata": {},
   "outputs": [
    {
     "data": {
      "text/plain": [
       "['cotent_Ed-json.json',\n",
       " 'cotent_ExaminerReport-json.json',\n",
       " 'cotent_Jira-pdf.json',\n",
       " 'cotent_MEA-json.json',\n",
       " 'cotent_Moodle-json.json',\n",
       " 'cotent_Panopto-video.json',\n",
       " 'cotent_PolicyBank-pdf.json',\n",
       " 'cotent_TeachHQ-json.json',\n",
       " 'cotent_TeachHQ-video.json']"
      ]
     },
     "execution_count": 3,
     "metadata": {},
     "output_type": "execute_result"
    }
   ],
   "source": [
    "content_file"
   ]
  },
  {
   "cell_type": "code",
   "execution_count": null,
   "id": "9fa0b8c3-778c-47e5-b1d1-3a65858323df",
   "metadata": {},
   "outputs": [
    {
     "data": {
      "text/plain": [
       "['metadata_Ed-json.json',\n",
       " 'metadata_ExaminerReport-json.json',\n",
       " 'metadata_Jira-pdf.json',\n",
       " 'metadata_MEA-json.json',\n",
       " 'metadata_Moodle-json.json',\n",
       " 'metadata_Panopto-video.json',\n",
       " 'metadata_PolicyBank-pdf.json',\n",
       " 'metadata_TeachHQ-json.json',\n",
       " 'metadata_TeachHQ-video.json']"
      ]
     },
     "execution_count": 4,
     "metadata": {},
     "output_type": "execute_result"
    }
   ],
   "source": [
    "metadata_file"
   ]
  },
  {
   "cell_type": "code",
   "execution_count": null,
   "id": "26a05615-a19a-461a-a7fb-eb4fe6efb268",
   "metadata": {},
   "outputs": [],
   "source": [
    "content_file_list = ['cotent_Ed-json.json',\n",
    " 'cotent_ExaminerReport-json.json',\n",
    " 'cotent_Jira-pdf.json',\n",
    " 'cotent_MEA-json.json',\n",
    " 'cotent_Moodle-json.json',\n",
    " 'cotent_PolicyBank-pdf.json',\n",
    " 'cotent_TeachHQ-json.json',\n",
    " 'cotent_TeachHQ-video.json']"
   ]
  },
  {
   "cell_type": "code",
   "execution_count": null,
   "id": "902b0daa-7280-43df-8e6d-c825b5b5f697",
   "metadata": {},
   "outputs": [],
   "source": [
    "metadata_file_list = ['metadata_Ed-json.json',\n",
    " 'metadata_ExaminerReport-json.json',\n",
    " 'metadata_Jira-pdf.json',\n",
    " 'metadata_MEA-json.json',\n",
    " 'metadata_Moodle-json.json',\n",
    " 'metadata_PolicyBank-pdf.json',\n",
    " 'metadata_TeachHQ-json.json',\n",
    " 'metadata_TeachHQ-video.json']"
   ]
  },
  {
   "cell_type": "code",
   "execution_count": null,
   "id": "9f4dbba3-95e5-4505-b6c0-8e4d821879fa",
   "metadata": {},
   "outputs": [],
   "source": [
    "all_content = []\n",
    "all_title = []\n",
    "all_summary = []\n",
    "all_url = []\n",
    "all_source = []\n",
    "\n",
    "for f_content, f_metadata in zip(content_file_list, metadata_file_list):\n",
    "    with open(f_content, 'r') as f:\n",
    "        content = json.load(f)\n",
    "        all_content.extend(content)\n",
    "    with open(f_metadata, 'r') as f:\n",
    "        metadata = json.load(f)\n",
    "        for item in metadata:\n",
    "            all_title.append(item['title'])\n",
    "            all_summary.append(item['summary'])\n",
    "            all_url.append(item['url'])            \n",
    "            all_source.append(item['repository'])            "
   ]
  },
  {
   "cell_type": "code",
   "execution_count": null,
   "id": "45b7262e-1b60-40e8-ab9c-2bb71710fb22",
   "metadata": {},
   "outputs": [
    {
     "data": {
      "text/plain": [
       "(20217, 20217, 20217, 20217, 20217)"
      ]
     },
     "execution_count": 8,
     "metadata": {},
     "output_type": "execute_result"
    }
   ],
   "source": [
    "len(all_content), len(all_title), len(all_summary), len(all_url), len(all_source)"
   ]
  },
  {
   "cell_type": "code",
   "execution_count": null,
   "id": "4a4261bb-7ca5-45c6-b111-4cc8db93bca1",
   "metadata": {},
   "outputs": [],
   "source": [
    "with open('new_data_for_ingestion.json', 'r') as file:\n",
    "    new_data = json.load(file)\n",
    "with open('ed_data_for_ingestion.json', 'r') as file:\n",
    "    ed_data = json.load(file)\n",
    "    \n",
    "with open('new_data_summary.json', 'r') as file:\n",
    "    new_data_summary = json.load(file)\n",
    "with open('ed_data_summary.json', 'r') as file:\n",
    "    ed_data_summary = json.load(file)\n",
    "\n",
    "with open('new_title_for_ingestion.json', 'r') as file:\n",
    "    new_data_title = json.load(file)\n",
    "with open('ed_title_for_ingestion.json', 'r') as file:\n",
    "    ed_data_title = json.load(file)\n",
    "    \n",
    "with open('new_link_for_ingestion.json', 'r') as file:\n",
    "    new_data_link = json.load(file)\n",
    "with open('ed_link_for_ingestion.json', 'r') as file:\n",
    "    ed_data_link = json.load(file)\n",
    "\n",
    "with open('new_source_for_ingestion.json', 'r') as file:\n",
    "    new_data_source = json.load(file)\n",
    "with open('ed_source_for_ingestion.json', 'r') as file:\n",
    "    ed_data_source = json.load(file)"
   ]
  },
  {
   "cell_type": "code",
   "execution_count": null,
   "id": "3715495a-1a2f-4455-8f7f-fca8cc01d7eb",
   "metadata": {},
   "outputs": [
    {
     "data": {
      "text/plain": [
       "(65666, 65666, 65666, 65666, 65666)"
      ]
     },
     "execution_count": 10,
     "metadata": {},
     "output_type": "execute_result"
    }
   ],
   "source": [
    "len(new_data), len(new_data_summary), len(new_data_title), len(new_data_link), len(new_data_source)"
   ]
  },
  {
   "cell_type": "code",
   "execution_count": null,
   "id": "648895f5-3dc6-4147-8233-debfb0bf585a",
   "metadata": {},
   "outputs": [
    {
     "data": {
      "text/plain": [
       "(8691, 8691, 8691, 8691, 8691)"
      ]
     },
     "execution_count": 11,
     "metadata": {},
     "output_type": "execute_result"
    }
   ],
   "source": [
    "len(ed_data), len(ed_data_summary), len(ed_data_title), len(ed_data_link), len(ed_data_source)"
   ]
  },
  {
   "cell_type": "code",
   "execution_count": null,
   "id": "660b5338-6217-4777-a54a-7a097fe7037a",
   "metadata": {},
   "outputs": [],
   "source": [
    "all_content.extend(new_data)\n",
    "all_content.extend(ed_data)"
   ]
  },
  {
   "cell_type": "code",
   "execution_count": null,
   "id": "0ec116ee-a4db-4310-a967-44ca9d495d30",
   "metadata": {},
   "outputs": [],
   "source": [
    "all_title.extend(new_data_title)\n",
    "all_title.extend(ed_data_title)\n",
    "\n",
    "all_summary.extend(new_data_summary)\n",
    "all_summary.extend(ed_data_summary)\n",
    "\n",
    "all_url.extend(new_data_link)\n",
    "all_url.extend(ed_data_link)\n",
    "\n",
    "all_source.extend(new_data_source)\n",
    "all_source.extend(ed_data_source)"
   ]
  },
  {
   "cell_type": "code",
   "execution_count": null,
   "id": "a3f7b4c5-f192-447e-96ba-9f62be28f67a",
   "metadata": {},
   "outputs": [
    {
     "data": {
      "text/plain": [
       "(94574, 94574, 94574, 94574, 94574)"
      ]
     },
     "execution_count": 14,
     "metadata": {},
     "output_type": "execute_result"
    }
   ],
   "source": [
    "len(all_content), len(all_title), len(all_summary), len(all_url), len(all_source)"
   ]
  },
  {
   "cell_type": "code",
   "execution_count": null,
   "id": "9af21759-2cb2-4efe-8957-6561e17913fd",
   "metadata": {},
   "outputs": [],
   "source": [
    "with open('contents_docid.json', 'r') as file:\n",
    "    all_docid = json.load(file)"
   ]
  },
  {
   "cell_type": "code",
   "execution_count": null,
   "id": "6ff3cba5-d1ea-4a77-8fe3-bf47989eff09",
   "metadata": {},
   "outputs": [
    {
     "data": {
      "text/plain": [
       "94574"
      ]
     },
     "execution_count": 16,
     "metadata": {},
     "output_type": "execute_result"
    }
   ],
   "source": [
    "len(all_docid)"
   ]
  },
  {
   "cell_type": "code",
   "execution_count": null,
   "id": "bc6d0135-2260-483b-b761-ceb2eb7f21d0",
   "metadata": {},
   "outputs": [
    {
     "data": {
      "text/plain": [
       "9394"
      ]
     },
     "execution_count": 19,
     "metadata": {},
     "output_type": "execute_result"
    }
   ],
   "source": [
    "len(set(all_docid))"
   ]
  },
  {
   "cell_type": "code",
   "execution_count": null,
   "id": "668724ba-66cc-4ba5-88fd-f0e9a7e34120",
   "metadata": {},
   "outputs": [],
   "source": [
    "docid_knowledge_dict = dict()\n",
    "for i in range(len(all_docid)):\n",
    "    # docid_knowledge_dict = dict()\n",
    "    temp_id = all_docid[i]\n",
    "    temp_content = all_content[i]\n",
    "    temp_title = all_title[i]\n",
    "    temp_summary = all_summary[i]\n",
    "    temp_url = all_url[i]\n",
    "    temp_source = all_source[i]\n",
    "    temp_dict={'content':temp_content, 'title':temp_title, 'summary':temp_summary, 'url':temp_url, 'repository':temp_source}\n",
    "    docid_knowledge_dict[temp_id] = temp_dict\n",
    "    # docid_knowledge_list.append(docid_knowledge_dict)\n",
    "    # all_docid_knowledge[]"
   ]
  },
  {
   "cell_type": "code",
   "execution_count": null,
   "id": "0c203965-1697-44bd-93f6-0c9d737dab77",
   "metadata": {},
   "outputs": [
    {
     "data": {
      "text/plain": [
       "9394"
      ]
     },
     "execution_count": 18,
     "metadata": {},
     "output_type": "execute_result"
    }
   ],
   "source": [
    "len(docid_knowledge_dict.keys())"
   ]
  },
  {
   "cell_type": "code",
   "execution_count": null,
   "id": "cf8681c3-28ae-4f88-bb68-51b76c6dc33e",
   "metadata": {},
   "outputs": [],
   "source": [
    "with open('all_docid_knowledge.json', 'w') as file:\n",
    "    json.dump(docid_knowledge_dict, file)"
   ]
  },
  {
   "cell_type": "code",
   "execution_count": null,
   "id": "85ba378b-b4a1-4748-b884-07c98378593b",
   "metadata": {},
   "outputs": [
    {
     "data": {
      "text/plain": [
       "94574"
      ]
     },
     "execution_count": 26,
     "metadata": {},
     "output_type": "execute_result"
    }
   ],
   "source": [
    "len(docid_knowledge_dict.keys())"
   ]
  },
  {
   "cell_type": "code",
   "execution_count": null,
   "id": "6a73ac1d-c73e-40f4-b037-3c52d012366d",
   "metadata": {},
   "outputs": [],
   "source": [
    "with open('all_docid_knowledge.json', 'w') as file:\n",
    "    json.dump(docid_knowledge_list, file)"
   ]
  },
  {
   "cell_type": "code",
   "execution_count": null,
   "id": "d403d035-ea62-4438-b867-27b6647de10f",
   "metadata": {},
   "outputs": [],
   "source": []
  }
 ],
 "metadata": {
  "kernelspec": {
   "display_name": "Python 3",
   "language": "python",
   "name": "python3"
  },
  "language_info": {
   "codemirror_mode": {
    "name": "ipython",
    "version": 3
   },
   "file_extension": ".py",
   "mimetype": "text/x-python",
   "name": "python",
   "nbconvert_exporter": "python",
   "pygments_lexer": "ipython3",
   "version": "3.8.10"
  }
 },
 "nbformat": 4,
 "nbformat_minor": 5
}
