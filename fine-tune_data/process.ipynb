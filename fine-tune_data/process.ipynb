{
 "cells": [
  {
   "cell_type": "code",
   "execution_count": 1,
   "id": "99b234da-390d-465f-aeac-6d3d8da86989",
   "metadata": {},
   "outputs": [],
   "source": [
    "import json\n",
    "import glob"
   ]
  },
  {
   "cell_type": "code",
   "execution_count": 4,
   "id": "4c7f3bbd-b26c-46be-86df-4685b0059929",
   "metadata": {},
   "outputs": [],
   "source": [
    "content_pattern = 'cotent_*.json'\n",
    "metadata_pattern = 'metadata_*.json'\n",
    "    \n",
    "content_file = glob.glob(content_pattern)\n",
    "metadata_file = glob.glob(metadata_pattern)\n",
    "                          "
   ]
  },
  {
   "cell_type": "code",
   "execution_count": 5,
   "id": "073b8154-d109-4658-8633-d436ca97fc69",
   "metadata": {},
   "outputs": [
    {
     "data": {
      "text/plain": [
       "['cotent_Ed-json.json',\n",
       " 'cotent_ExaminerReport-json.json',\n",
       " 'cotent_Jira-pdf.json',\n",
       " 'cotent_MEA-json.json',\n",
       " 'cotent_Moodle-json.json',\n",
       " 'cotent_Panopto-video.json',\n",
       " 'cotent_PolicyBank-pdf.json',\n",
       " 'cotent_TeachHQ-json.json',\n",
       " 'cotent_TeachHQ-video.json']"
      ]
     },
     "execution_count": 5,
     "metadata": {},
     "output_type": "execute_result"
    }
   ],
   "source": [
    "content_file"
   ]
  },
  {
   "cell_type": "code",
   "execution_count": 6,
   "id": "b35fa50b-0a01-47e6-8aa6-24bc5e3ee004",
   "metadata": {},
   "outputs": [
    {
     "data": {
      "text/plain": [
       "['metadata_Ed-json.json',\n",
       " 'metadata_ExaminerReport-json.json',\n",
       " 'metadata_Jira-pdf.json',\n",
       " 'metadata_MEA-json.json',\n",
       " 'metadata_Moodle-json.json',\n",
       " 'metadata_Panopto-video.json',\n",
       " 'metadata_PolicyBank-pdf.json',\n",
       " 'metadata_TeachHQ-json.json',\n",
       " 'metadata_TeachHQ-video.json']"
      ]
     },
     "execution_count": 6,
     "metadata": {},
     "output_type": "execute_result"
    }
   ],
   "source": [
    "metadata_file"
   ]
  },
  {
   "cell_type": "code",
   "execution_count": 31,
   "id": "2531f87f-101b-423f-a91d-cca1b119a8b2",
   "metadata": {},
   "outputs": [],
   "source": [
    "all_content = []\n",
    "all_title = []\n",
    "all_summary= []\n",
    "cnt = []\n",
    "for f_content, f_metadata in zip(content_file, metadata_file):\n",
    "    with open(f_content, 'r') as f:\n",
    "        content = json.load(f)\n",
    "        cnt.append(len(content))\n",
    "        all_content.extend(content)\n",
    "    with open(f_metadata, 'r') as f:\n",
    "        metadata = json.load(f)\n",
    "        for item in metadata:\n",
    "            all_title.append(item['title'])\n",
    "            all_summary.append(item['summary'])"
   ]
  },
  {
   "cell_type": "code",
   "execution_count": 33,
   "id": "d43b8f52-2cab-48cc-9051-6bdf5b54fab4",
   "metadata": {},
   "outputs": [
    {
     "data": {
      "text/plain": [
       "[9371, 214, 104, 207, 9609, 46, 145, 472, 95]"
      ]
     },
     "execution_count": 33,
     "metadata": {},
     "output_type": "execute_result"
    }
   ],
   "source": [
    "cnt"
   ]
  },
  {
   "cell_type": "code",
   "execution_count": 35,
   "id": "0c1304c0-4aa0-4da1-8244-c91759d245d0",
   "metadata": {},
   "outputs": [
    {
     "data": {
      "text/plain": [
       "[9371, 9585, 9689, 9896, 19505, 19551, 19696, 20168, 20263]"
      ]
     },
     "execution_count": 35,
     "metadata": {},
     "output_type": "execute_result"
    }
   ],
   "source": [
    "import itertools\n",
    "acc_cnt= list(itertools.accumulate(cnt))\n",
    "acc_cnt"
   ]
  },
  {
   "cell_type": "code",
   "execution_count": 38,
   "id": "9edf2bd5-0f77-4e42-bad4-2a6f08c09c51",
   "metadata": {},
   "outputs": [
    {
     "data": {
      "text/plain": [
       "20217"
      ]
     },
     "execution_count": 38,
     "metadata": {},
     "output_type": "execute_result"
    }
   ],
   "source": [
    "len(all_content)"
   ]
  },
  {
   "cell_type": "code",
   "execution_count": 37,
   "id": "c54ab6df-5400-4514-a6a7-2d0508ef6071",
   "metadata": {},
   "outputs": [],
   "source": [
    "tmp1 = all_content[:19505]\n",
    "tmp2 = all_content[19551:]\n",
    "all_content = tmp1 + tmp2"
   ]
  },
  {
   "cell_type": "code",
   "execution_count": 39,
   "id": "cba7ac9c-7428-407c-8a7e-6c9715783ce8",
   "metadata": {},
   "outputs": [],
   "source": [
    "tmp1 = all_summary[:19505]\n",
    "tmp2 = all_summary[19551:]\n",
    "all_summary = tmp1 + tmp2"
   ]
  },
  {
   "cell_type": "code",
   "execution_count": 41,
   "id": "72d8ee34-5cad-42ee-991a-f23399609211",
   "metadata": {},
   "outputs": [],
   "source": [
    "with open('contents_docid.json', 'r') as file:\n",
    "    docids = json.load(file)"
   ]
  },
  {
   "cell_type": "code",
   "execution_count": 43,
   "id": "abaaf8ec-582b-484e-87b2-fcd99e60827f",
   "metadata": {},
   "outputs": [],
   "source": [
    "tmp1 = docids[:19505]\n",
    "tmp2 = docids[19551:]\n",
    "docids = tmp1 + tmp2"
   ]
  },
  {
   "cell_type": "code",
   "execution_count": 44,
   "id": "58345aa2-7232-49b7-bbee-d570c46b37f3",
   "metadata": {},
   "outputs": [
    {
     "data": {
      "text/plain": [
       "20217"
      ]
     },
     "execution_count": 44,
     "metadata": {},
     "output_type": "execute_result"
    }
   ],
   "source": [
    "len(docids)"
   ]
  },
  {
   "cell_type": "code",
   "execution_count": 40,
   "id": "39b54331-3f3a-41cf-b4e6-aa74256cee6a",
   "metadata": {},
   "outputs": [
    {
     "data": {
      "text/plain": [
       "20217"
      ]
     },
     "execution_count": 40,
     "metadata": {},
     "output_type": "execute_result"
    }
   ],
   "source": [
    "len(all_summary)"
   ]
  },
  {
   "cell_type": "code",
   "execution_count": 12,
   "id": "90ebef98-57b8-4155-9c4a-202c9126eae4",
   "metadata": {},
   "outputs": [],
   "source": [
    "with open('all_content.json', 'w') as file:\n",
    "    json.dump(all_content, file)\n",
    "    \n",
    "with open('all_title.json', 'w') as file:\n",
    "    json.dump(all_title, file)\n",
    "    \n",
    "with open('all_summary.json', 'w') as file:\n",
    "    json.dump(all_summary, file)"
   ]
  },
  {
   "cell_type": "code",
   "execution_count": 24,
   "id": "e261b5e7-a1d8-48be-9171-0e32c6e34f8e",
   "metadata": {},
   "outputs": [],
   "source": [
    "with open('all_content.json', 'r') as file:\n",
    "    all_content = json.load(file)\n",
    "with open('new_data_for_ingestion.json', 'r') as file:\n",
    "    new_data = json.load(file)\n",
    "with open('ed_data_for_ingestion.json', 'r') as file:\n",
    "    ed_data = json.load(file)\n",
    "all_content.extend(new_data)\n",
    "all_content.extend(ed_data)\n",
    "\n",
    "\n",
    "with open('all_summary.json', 'r') as file:\n",
    "    all_summary = json.load(file)\n",
    "with open('new_data_summary.json', 'r') as file:\n",
    "    new_data_summary = json.load(file)\n",
    "with open('ed_data_summary.json', 'r') as file:\n",
    "    ed_data_summary = json.load(file)\n",
    "all_summary.extend(new_data_summary)\n",
    "all_summary.extend(ed_data_summary)"
   ]
  },
  {
   "cell_type": "code",
   "execution_count": 46,
   "id": "07efd0f7-32da-4217-9252-b3aa2b852625",
   "metadata": {},
   "outputs": [
    {
     "data": {
      "text/plain": [
       "94574"
      ]
     },
     "execution_count": 46,
     "metadata": {},
     "output_type": "execute_result"
    }
   ],
   "source": [
    "len(all_content)"
   ]
  },
  {
   "cell_type": "code",
   "execution_count": 47,
   "id": "f1c35556-59f4-4079-b3a1-76e4f1fae2e2",
   "metadata": {},
   "outputs": [],
   "source": [
    "with open('all_content.json', 'w') as file:\n",
    "    json.dump(all_content, file)\n",
    "    \n",
    "with open('all_summary.json', 'w') as file:\n",
    "    json.dump(all_summary, file)"
   ]
  },
  {
   "cell_type": "code",
   "execution_count": 48,
   "id": "0b1a91e2-92b8-4957-83e4-2ecb5e1be797",
   "metadata": {},
   "outputs": [],
   "source": [
    "with open('new_docid.json', 'r') as file:\n",
    "    new_id = json.load(file)\n",
    "with open('ed_data_id.json', 'r') as file:\n",
    "    ed_id = json.load(file)"
   ]
  },
  {
   "cell_type": "code",
   "execution_count": 45,
   "id": "e94443e7-36c6-4f10-ba4f-c566a8469c10",
   "metadata": {},
   "outputs": [],
   "source": [
    "all_content.extend(new_data)\n",
    "all_content.extend(ed_data)\n",
    "all_summary.extend(new_data_summary)\n",
    "all_summary.extend(ed_data_summary)"
   ]
  },
  {
   "cell_type": "code",
   "execution_count": 49,
   "id": "d6c1112e-a0b8-432e-8901-e29fbb18094d",
   "metadata": {},
   "outputs": [],
   "source": [
    "docids.extend(new_id)\n",
    "docids.extend(ed_id)"
   ]
  },
  {
   "cell_type": "code",
   "execution_count": 57,
   "id": "9b6ed7d7-4b63-40c2-af47-a494dea3f71b",
   "metadata": {},
   "outputs": [
    {
     "data": {
      "text/plain": [
       "94574"
      ]
     },
     "execution_count": 57,
     "metadata": {},
     "output_type": "execute_result"
    }
   ],
   "source": [
    "len(docids)"
   ]
  },
  {
   "cell_type": "code",
   "execution_count": 51,
   "id": "aba6cb78-aa38-4750-9b43-43c625f51f73",
   "metadata": {},
   "outputs": [],
   "source": [
    "with open('contents_docid.json', 'w') as file:\n",
    "    json.dump(docids, file)"
   ]
  },
  {
   "cell_type": "code",
   "execution_count": 53,
   "id": "8b7e9949-14bc-4ad4-ab1c-f9cf60cc6bd8",
   "metadata": {},
   "outputs": [],
   "source": []
  },
  {
   "cell_type": "code",
   "execution_count": 56,
   "id": "012092ee-7c5c-4b40-87f7-7f6aeb37175c",
   "metadata": {},
   "outputs": [
    {
     "data": {
      "text/plain": [
       "9394"
      ]
     },
     "execution_count": 56,
     "metadata": {},
     "output_type": "execute_result"
    }
   ],
   "source": []
  },
  {
   "cell_type": "code",
   "execution_count": null,
   "id": "a4c86e16-a07d-448a-aef4-add48ace0e8e",
   "metadata": {},
   "outputs": [],
   "source": []
  }
 ],
 "metadata": {
  "kernelspec": {
   "display_name": "Python 3",
   "language": "python",
   "name": "python3"
  },
  "language_info": {
   "codemirror_mode": {
    "name": "ipython",
    "version": 3
   },
   "file_extension": ".py",
   "mimetype": "text/x-python",
   "name": "python",
   "nbconvert_exporter": "python",
   "pygments_lexer": "ipython3",
   "version": "3.8.10"
  }
 },
 "nbformat": 4,
 "nbformat_minor": 5
}
